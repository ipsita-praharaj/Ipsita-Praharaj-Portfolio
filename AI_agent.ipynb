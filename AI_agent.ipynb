{
  "cells": [
    {
      "cell_type": "markdown",
      "metadata": {
        "id": "view-in-github",
        "colab_type": "text"
      },
      "source": [
        "<a href=\"https://colab.research.google.com/github/ipsita-praharaj/Ipsita-Praharaj-Portfolio/blob/master/AI_agent.ipynb\" target=\"_parent\"><img src=\"https://colab.research.google.com/assets/colab-badge.svg\" alt=\"Open In Colab\"/></a>"
      ]
    },
    {
      "cell_type": "code",
      "source": [],
      "metadata": {
        "id": "X6wsSj8kfvph"
      },
      "execution_count": null,
      "outputs": []
    },
    {
      "cell_type": "code",
      "source": [
        "from google.colab import drive\n",
        "drive.mount('/content/drive')"
      ],
      "metadata": {
        "colab": {
          "base_uri": "https://localhost:8080/"
        },
        "id": "r00ojZF8f0ql",
        "outputId": "4af8d52a-6528-4259-b387-d403e317d68c"
      },
      "execution_count": 14,
      "outputs": [
        {
          "output_type": "stream",
          "name": "stdout",
          "text": [
            "Mounted at /content/drive\n"
          ]
        }
      ]
    },
    {
      "cell_type": "code",
      "source": [
        "directory_to_mount = '/content/drive/MyDrive/AI_agent'\n",
        "\n",
        "# Change the current working directory to the mounted directory\n",
        "os.chdir(directory_to_mount)\n",
        "\n",
        "os.getcwd()"
      ],
      "metadata": {
        "colab": {
          "base_uri": "https://localhost:8080/",
          "height": 35
        },
        "id": "dYgc1lwQf2XP",
        "outputId": "bd393c8a-6b33-463b-c652-679a069a4dc3"
      },
      "execution_count": 22,
      "outputs": [
        {
          "output_type": "execute_result",
          "data": {
            "text/plain": [
              "'/content/drive/MyDrive/AI_agent'"
            ],
            "application/vnd.google.colaboratory.intrinsic+json": {
              "type": "string"
            }
          },
          "metadata": {},
          "execution_count": 22
        }
      ]
    },
    {
      "cell_type": "code",
      "source": [
        "!git lfs install"
      ],
      "metadata": {
        "colab": {
          "base_uri": "https://localhost:8080/"
        },
        "id": "oJEcSKQahCI5",
        "outputId": "9affcd16-39e4-4530-a557-aed4219d49f0"
      },
      "execution_count": 24,
      "outputs": [
        {
          "output_type": "stream",
          "name": "stdout",
          "text": [
            "Git LFS initialized.\n"
          ]
        }
      ]
    },
    {
      "cell_type": "code",
      "source": [
        "!git clone https://huggingface.co/spaces/ipsita97/First_agent_template"
      ],
      "metadata": {
        "colab": {
          "base_uri": "https://localhost:8080/"
        },
        "id": "lkDgQ5ZVhUR9",
        "outputId": "a49a3119-f417-4014-d1e9-ad52e9fdab88"
      },
      "execution_count": 25,
      "outputs": [
        {
          "output_type": "stream",
          "name": "stdout",
          "text": [
            "Cloning into 'First_agent_template'...\n",
            "fatal: unable to access 'https://huggingface.co/spaces/ipsita97/First_agent_template/': The requested URL returned error: 502\n"
          ]
        }
      ]
    },
    {
      "cell_type": "code",
      "source": [
        "# prompt: Cloning into 'First_agent_template'...\n",
        "# fatal: unable to access 'https://huggingface.co/spaces/ipsita97/First_agent_template/': The requested URL returned error: 502\n",
        "# [ ]\n",
        "# when os.getcwd() /content/drive/MyDrive/AI_agent why fix\n",
        "\n",
        "from google.colab import drive\n",
        "drive.mount('/content/drive')\n",
        "import os\n",
        "\n",
        "directory_to_mount = '/content/drive/MyDrive/AI_agent'\n",
        "\n",
        "# Change the current working directory to the mounted directory\n",
        "os.chdir(directory_to_mount)\n",
        "\n",
        "print(os.getcwd())\n",
        "\n",
        "# Use git clone with --depth 1 to avoid cloning the entire history if you don't need it.\n",
        "# Also try with ssh if https doesn't work.\n",
        "!git clone --depth 1 https://huggingface.co/spaces/ipsita97/First_agent_template\n"
      ],
      "metadata": {
        "colab": {
          "base_uri": "https://localhost:8080/"
        },
        "id": "5ym7E1kGhZka",
        "outputId": "73d3df20-b365-4342-84dd-0439a7419aa5"
      },
      "execution_count": 26,
      "outputs": [
        {
          "output_type": "stream",
          "name": "stdout",
          "text": [
            "Drive already mounted at /content/drive; to attempt to forcibly remount, call drive.mount(\"/content/drive\", force_remount=True).\n",
            "/content/drive/MyDrive/AI_agent\n",
            "Cloning into 'First_agent_template'...\n",
            "remote: Enumerating objects: 13, done.\u001b[K\n",
            "remote: Counting objects: 100% (13/13), done.\u001b[K\n",
            "remote: Compressing objects: 100% (13/13), done.\u001b[K\n",
            "remote: Total 13 (delta 0), reused 12 (delta 0), pack-reused 0 (from 0)\u001b[K\n",
            "Unpacking objects: 100% (13/13), 18.11 KiB | 79.00 KiB/s, done.\n"
          ]
        }
      ]
    },
    {
      "cell_type": "code",
      "source": [],
      "metadata": {
        "id": "z4WK70qthwSG"
      },
      "execution_count": null,
      "outputs": []
    }
  ],
  "metadata": {
    "colab": {
      "name": "Welcome To Colab",
      "provenance": [],
      "include_colab_link": true
    },
    "kernelspec": {
      "display_name": "Python 3",
      "name": "python3"
    }
  },
  "nbformat": 4,
  "nbformat_minor": 0
}